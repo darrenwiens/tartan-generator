{
 "cells": [
  {
   "cell_type": "code",
   "execution_count": 3,
   "metadata": {},
   "outputs": [],
   "source": [
    "import matplotlib.pyplot as plt\n",
    "%matplotlib inline\n",
    "import numpy as np"
   ]
  },
  {
   "cell_type": "code",
   "execution_count": 70,
   "metadata": {},
   "outputs": [],
   "source": [
    "def generate_tartan(fig, ax):\n",
    "    threads = 500\n",
    "    coverage = np.random.randint(threads/4,threads/2)\n",
    "    \n",
    "    stripes = np.random.randint(4, 10)\n",
    "    potential_indices = np.arange(coverage)\n",
    "    rand_indices = np.sort(np.random.choice(potential_indices, stripes, replace=False))\n",
    "\n",
    "    bool = 1\n",
    "    booleans = []\n",
    "    for i in range(coverage):\n",
    "        if i in rand_indices:\n",
    "            bool ^= 1\n",
    "        booleans.append(bool)\n",
    "\n",
    "    ax.set_facecolor(np.random.rand(3,))\n",
    "    linewidth = threads/1500.0\n",
    "    color = np.random.rand(3,)\n",
    "    for i in range(coverage):\n",
    "        if booleans[i]==1:\n",
    "            ax.axvline(i/1000.0, 0, 1, linewidth=linewidth, color=color)\n",
    "            ax.axvline(1-i/1000.0, 0, 1, linewidth=linewidth, color=color)\n",
    "            if i%3==0:\n",
    "                ax.axhline(i/1000.0, 0, 1, linewidth=linewidth, color=color)\n",
    "                ax.axhline(1-i/1000.0, 0, 1, linewidth=linewidth, color=color)\n",
    "        else:\n",
    "            color = np.random.rand(3,)\n",
    "    return ax"
   ]
  },
  {
   "cell_type": "code",
   "execution_count": 81,
   "metadata": {},
   "outputs": [
    {
     "data": {
      "image/png": "[encoded data removed]",
      "text/plain": [
       "<Figure size 432x288 with 1 Axes>"
      ]
     },
     "metadata": {},
     "output_type": "display_data"
    }
   ],
   "source": [
    "fig = plt.figure()\n",
    "ax = fig.add_subplot(1, 1, 1)\n",
    "\n",
    "tartan = generate_tartan(fig, ax)"
   ]
  },
  {
   "cell_type": "code",
   "execution_count": null,
   "metadata": {},
   "outputs": [],
   "source": []
  }
 ],
 "metadata": {
  "kernelspec": {
   "display_name": "Python 3",
   "language": "python",
   "name": "python3"
  },
  "language_info": {
   "codemirror_mode": {
    "name": "ipython",
    "version": 3
   },
   "file_extension": ".py",
   "mimetype": "text/x-python",
   "name": "python",
   "nbconvert_exporter": "python",
   "pygments_lexer": "ipython3",
   "version": "3.6.4"
  }
 },
 "nbformat": 4,
 "nbformat_minor": 2
}
